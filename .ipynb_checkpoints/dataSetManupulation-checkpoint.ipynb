{
 "cells": [
  {
   "cell_type": "code",
   "execution_count": 1,
   "metadata": {},
   "outputs": [],
   "source": [
    "#Import modules\n",
    "import pandas as pd\n",
    "import matplotlib\n",
    "from matplotlib import pyplot as plot\n",
    "from datetime import datetime, date, timedelta\n",
    "from matplotlib.pyplot import figure  \n",
    "import numpy as np\n",
    "import math"
   ]
  },
  {
   "cell_type": "code",
   "execution_count": 2,
   "metadata": {},
   "outputs": [],
   "source": [
    "url = 'https://raw.githubusercontent.com/umaimehm/Intro_to_AI/master/assignment1/Ruter_data.csv'"
   ]
  },
  {
   "cell_type": "code",
   "execution_count": 3,
   "metadata": {
    "scrolled": true
   },
   "outputs": [
    {
     "data": {
      "text/html": [
       "<div>\n",
       "<style scoped>\n",
       "    .dataframe tbody tr th:only-of-type {\n",
       "        vertical-align: middle;\n",
       "    }\n",
       "\n",
       "    .dataframe tbody tr th {\n",
       "        vertical-align: top;\n",
       "    }\n",
       "\n",
       "    .dataframe thead th {\n",
       "        text-align: right;\n",
       "    }\n",
       "</style>\n",
       "<table border=\"1\" class=\"dataframe\">\n",
       "  <thead>\n",
       "    <tr style=\"text-align: right;\">\n",
       "      <th></th>\n",
       "      <th>TurId</th>\n",
       "      <th>Dato</th>\n",
       "      <th>Fylke</th>\n",
       "      <th>Område</th>\n",
       "      <th>Kommune</th>\n",
       "      <th>Holdeplass_Fra</th>\n",
       "      <th>Holdeplass_Til</th>\n",
       "      <th>Linjetype</th>\n",
       "      <th>Linjefylke</th>\n",
       "      <th>Linjenavn</th>\n",
       "      <th>Linjeretning</th>\n",
       "      <th>Tidspunkt_Faktisk_Ankomst_Holdeplass_Fra</th>\n",
       "      <th>Tidspunkt_Faktisk_Avgang_Holdeplass_Fra</th>\n",
       "      <th>Tidspunkt_Planlagt_Ankomst_Holdeplass_Fra</th>\n",
       "      <th>Tidspunkt_Planlagt_Avgang_Holdeplass_Fra</th>\n",
       "      <th>Kjøretøy_Kapasitet</th>\n",
       "      <th>Passasjerer_Ombord</th>\n",
       "    </tr>\n",
       "  </thead>\n",
       "  <tbody>\n",
       "    <tr>\n",
       "      <th>0</th>\n",
       "      <td>15006-2020-08-10T10:24:00+02:00</td>\n",
       "      <td>10/08/2020</td>\n",
       "      <td>Viken</td>\n",
       "      <td>Vest</td>\n",
       "      <td>Bærum</td>\n",
       "      <td>Nordliveien</td>\n",
       "      <td>Tjernsmyr</td>\n",
       "      <td>Lokal</td>\n",
       "      <td>Viken</td>\n",
       "      <td>150</td>\n",
       "      <td>0</td>\n",
       "      <td>10:53:53</td>\n",
       "      <td>10:53:59</td>\n",
       "      <td>10:53:00</td>\n",
       "      <td>10:53:00</td>\n",
       "      <td>112</td>\n",
       "      <td>5</td>\n",
       "    </tr>\n",
       "    <tr>\n",
       "      <th>1</th>\n",
       "      <td>15002-2020-08-15T12:54:00+02:00</td>\n",
       "      <td>15/08/2020</td>\n",
       "      <td>Viken</td>\n",
       "      <td>Vest</td>\n",
       "      <td>Bærum</td>\n",
       "      <td>Nadderud stadion</td>\n",
       "      <td>Bekkestua bussterminal (Plattform C)</td>\n",
       "      <td>Lokal</td>\n",
       "      <td>Viken</td>\n",
       "      <td>150</td>\n",
       "      <td>0</td>\n",
       "      <td>13:12:20</td>\n",
       "      <td>13:12:26</td>\n",
       "      <td>13:12:00</td>\n",
       "      <td>13:12:00</td>\n",
       "      <td>112</td>\n",
       "      <td>5</td>\n",
       "    </tr>\n",
       "    <tr>\n",
       "      <th>2</th>\n",
       "      <td>15004-2020-08-03T09:54:00+02:00</td>\n",
       "      <td>03/08/2020</td>\n",
       "      <td>Viken</td>\n",
       "      <td>Vest</td>\n",
       "      <td>Bærum</td>\n",
       "      <td>Ringstabekkveien</td>\n",
       "      <td>Skallum</td>\n",
       "      <td>Lokal</td>\n",
       "      <td>Viken</td>\n",
       "      <td>150</td>\n",
       "      <td>0</td>\n",
       "      <td>10:18:56</td>\n",
       "      <td>10:19:21</td>\n",
       "      <td>10:19:00</td>\n",
       "      <td>10:19:00</td>\n",
       "      <td>112</td>\n",
       "      <td>6</td>\n",
       "    </tr>\n",
       "    <tr>\n",
       "      <th>3</th>\n",
       "      <td>15003-2020-07-27T13:00:00+02:00</td>\n",
       "      <td>27/07/2020</td>\n",
       "      <td>Viken</td>\n",
       "      <td>Vest</td>\n",
       "      <td>Bærum</td>\n",
       "      <td>Gruvemyra</td>\n",
       "      <td>Gullhaug</td>\n",
       "      <td>Lokal</td>\n",
       "      <td>Viken</td>\n",
       "      <td>150</td>\n",
       "      <td>1</td>\n",
       "      <td>13:52:04</td>\n",
       "      <td>13:52:26</td>\n",
       "      <td>13:51:00</td>\n",
       "      <td>13:51:00</td>\n",
       "      <td>112</td>\n",
       "      <td>10</td>\n",
       "    </tr>\n",
       "    <tr>\n",
       "      <th>4</th>\n",
       "      <td>15002-2020-08-27T07:15:00+02:00</td>\n",
       "      <td>27/08/2020</td>\n",
       "      <td>Viken</td>\n",
       "      <td>Vest</td>\n",
       "      <td>Bærum</td>\n",
       "      <td>Lysaker stasjon (Plattform A)</td>\n",
       "      <td>Tjernsmyr</td>\n",
       "      <td>Lokal</td>\n",
       "      <td>Viken</td>\n",
       "      <td>150</td>\n",
       "      <td>1</td>\n",
       "      <td>07:34:13</td>\n",
       "      <td>07:34:53</td>\n",
       "      <td>07:33:00</td>\n",
       "      <td>07:33:00</td>\n",
       "      <td>112</td>\n",
       "      <td>10</td>\n",
       "    </tr>\n",
       "  </tbody>\n",
       "</table>\n",
       "</div>"
      ],
      "text/plain": [
       "                             TurId        Dato  Fylke Område Kommune  \\\n",
       "0  15006-2020-08-10T10:24:00+02:00  10/08/2020  Viken   Vest   Bærum   \n",
       "1  15002-2020-08-15T12:54:00+02:00  15/08/2020  Viken   Vest   Bærum   \n",
       "2  15004-2020-08-03T09:54:00+02:00  03/08/2020  Viken   Vest   Bærum   \n",
       "3  15003-2020-07-27T13:00:00+02:00  27/07/2020  Viken   Vest   Bærum   \n",
       "4  15002-2020-08-27T07:15:00+02:00  27/08/2020  Viken   Vest   Bærum   \n",
       "\n",
       "                  Holdeplass_Fra                        Holdeplass_Til  \\\n",
       "0                    Nordliveien                             Tjernsmyr   \n",
       "1               Nadderud stadion  Bekkestua bussterminal (Plattform C)   \n",
       "2               Ringstabekkveien                               Skallum   \n",
       "3                      Gruvemyra                              Gullhaug   \n",
       "4  Lysaker stasjon (Plattform A)                             Tjernsmyr   \n",
       "\n",
       "  Linjetype Linjefylke Linjenavn  Linjeretning  \\\n",
       "0     Lokal      Viken       150             0   \n",
       "1     Lokal      Viken       150             0   \n",
       "2     Lokal      Viken       150             0   \n",
       "3     Lokal      Viken       150             1   \n",
       "4     Lokal      Viken       150             1   \n",
       "\n",
       "  Tidspunkt_Faktisk_Ankomst_Holdeplass_Fra  \\\n",
       "0                                 10:53:53   \n",
       "1                                 13:12:20   \n",
       "2                                 10:18:56   \n",
       "3                                 13:52:04   \n",
       "4                                 07:34:13   \n",
       "\n",
       "  Tidspunkt_Faktisk_Avgang_Holdeplass_Fra  \\\n",
       "0                                10:53:59   \n",
       "1                                13:12:26   \n",
       "2                                10:19:21   \n",
       "3                                13:52:26   \n",
       "4                                07:34:53   \n",
       "\n",
       "  Tidspunkt_Planlagt_Ankomst_Holdeplass_Fra  \\\n",
       "0                                  10:53:00   \n",
       "1                                  13:12:00   \n",
       "2                                  10:19:00   \n",
       "3                                  13:51:00   \n",
       "4                                  07:33:00   \n",
       "\n",
       "  Tidspunkt_Planlagt_Avgang_Holdeplass_Fra  Kjøretøy_Kapasitet  \\\n",
       "0                                 10:53:00                 112   \n",
       "1                                 13:12:00                 112   \n",
       "2                                 10:19:00                 112   \n",
       "3                                 13:51:00                 112   \n",
       "4                                 07:33:00                 112   \n",
       "\n",
       "   Passasjerer_Ombord  \n",
       "0                   5  \n",
       "1                   5  \n",
       "2                   6  \n",
       "3                  10  \n",
       "4                  10  "
      ]
     },
     "execution_count": 3,
     "metadata": {},
     "output_type": "execute_result"
    }
   ],
   "source": [
    "df = pd.read_csv(url, sep=';')\n",
    "df.head(5)"
   ]
  },
  {
   "cell_type": "code",
   "execution_count": 4,
   "metadata": {},
   "outputs": [],
   "source": [
    "####Converts str to time, replace hours over 24 with hours under 24\n",
    "#### changeDate is set to True, the date change with the change of time (use it for first run only)\n",
    "####Converts str to time, replace hours over 24 with hours under 24\n",
    "#### changeDate is set to True, the date change with the change of time (use it for first run only)\n",
    "def strToTime(rowName, changeDate=False):\n",
    "    x=rowName                               #Name of the row evaluated\n",
    "    for i, row in df.iterrows():            #df.iterrows() is the buildt in iter from pandas, haven't read documentation, too tierd right now\n",
    "        hourStr = row[x][:2]\n",
    "        try:                                #Convert string to int. If value error (ie not a number)\n",
    "            hourInt = int(hourStr)\n",
    "        except ValueError:\n",
    "            df.drop(i, inplace=True)        #Remove the item from the list\n",
    "        except:\n",
    "            print(\"error\")                  #For debugging only\n",
    "            \n",
    "        if hourInt>23:                                   ##Checks if %H is < 23            \n",
    "            try:              \n",
    "                hourInt = hourInt - 24                      #And subtracts 24h\n",
    "                hourStr = str(\"%02d\" % hourInt) + \":\"       #Formats to 2-digit format\n",
    "                df.at[i,x] = hourStr+row[x][3:]             #Inserts back into string\n",
    "                \n",
    "                if changeDate:\n",
    "                    df.at[i,\"Dato\"]=row[\"Dato\"] +  timedelta(days=1) #Adds one day to date where time has changed above             \n",
    "\n",
    "            except:                                #Error msg if it fails!\n",
    "                print(\"Error on converting:\")\n",
    "                print(df.iloc[i])\n",
    "\n",
    "    \n",
    "    df[x] = pd.to_datetime(df[x],format= '%H:%M:%S' ).dt.time  #Change from string to date time object\n",
    "  # df[x] = pd.to_datetime(df['Date'] + \" \" +df[x])\n",
    "    print(\"done with \" + x)                                       #The loop take some time, so just provideing som feedback\n"
   ]
  },
  {
   "cell_type": "code",
   "execution_count": 5,
   "metadata": {
    "scrolled": true
   },
   "outputs": [
    {
     "name": "stdout",
     "output_type": "stream",
     "text": [
      "done with Tidspunkt_Faktisk_Ankomst_Holdeplass_Fra\n",
      "done with Tidspunkt_Faktisk_Avgang_Holdeplass_Fra\n",
      "done with Tidspunkt_Planlagt_Ankomst_Holdeplass_Fra\n",
      "done with Tidspunkt_Planlagt_Avgang_Holdeplass_Fra\n"
     ]
    }
   ],
   "source": [
    "df['Dato'] = pd.to_datetime(df['Dato'])                #Convert date to a datetime object\n",
    "strToTime('Tidspunkt_Faktisk_Ankomst_Holdeplass_Fra', changeDate = True)  #Convert time to a datetime object, change date when time is over 24:00:00\n",
    "strToTime('Tidspunkt_Faktisk_Avgang_Holdeplass_Fra')         #Change time to datetime, no need for future date change\n",
    "strToTime('Tidspunkt_Planlagt_Ankomst_Holdeplass_Fra')\n",
    "strToTime('Tidspunkt_Planlagt_Avgang_Holdeplass_Fra')"
   ]
  },
  {
   "cell_type": "code",
   "execution_count": 6,
   "metadata": {},
   "outputs": [],
   "source": [
    "df = df.rename(columns={\"Tidspunkt_Faktisk_Ankomst_Holdeplass_Fra\":\"Faktisk_Ankomst\", \"Tidspunkt_Faktisk_Avgang_Holdeplass_Fra\":\"Faktisk_Avgang\", \"Tidspunkt_Planlagt_Ankomst_Holdeplass_Fra\":\"Planlagt_Ankomst\", \"Tidspunkt_Planlagt_Avgang_Holdeplass_Fra\":\"Planlagt_Avgang\", \"Passasjerer_Ombord\":\"Passasjerer_Flux\"})"
   ]
  },
  {
   "cell_type": "code",
   "execution_count": 7,
   "metadata": {
    "scrolled": true
   },
   "outputs": [
    {
     "data": {
      "text/html": [
       "<div>\n",
       "<style scoped>\n",
       "    .dataframe tbody tr th:only-of-type {\n",
       "        vertical-align: middle;\n",
       "    }\n",
       "\n",
       "    .dataframe tbody tr th {\n",
       "        vertical-align: top;\n",
       "    }\n",
       "\n",
       "    .dataframe thead th {\n",
       "        text-align: right;\n",
       "    }\n",
       "</style>\n",
       "<table border=\"1\" class=\"dataframe\">\n",
       "  <thead>\n",
       "    <tr style=\"text-align: right;\">\n",
       "      <th></th>\n",
       "      <th>TurId</th>\n",
       "      <th>Dato</th>\n",
       "      <th>Fylke</th>\n",
       "      <th>Område</th>\n",
       "      <th>Kommune</th>\n",
       "      <th>Holdeplass_Fra</th>\n",
       "      <th>Holdeplass_Til</th>\n",
       "      <th>Linjetype</th>\n",
       "      <th>Linjefylke</th>\n",
       "      <th>Linjenavn</th>\n",
       "      <th>Linjeretning</th>\n",
       "      <th>Faktisk_Ankomst</th>\n",
       "      <th>Faktisk_Avgang</th>\n",
       "      <th>Planlagt_Ankomst</th>\n",
       "      <th>Planlagt_Avgang</th>\n",
       "      <th>Kjøretøy_Kapasitet</th>\n",
       "      <th>Passasjerer_Flux</th>\n",
       "    </tr>\n",
       "  </thead>\n",
       "  <tbody>\n",
       "    <tr>\n",
       "      <th>0</th>\n",
       "      <td>15006-2020-08-10T10:24:00+02:00</td>\n",
       "      <td>2020-10-08</td>\n",
       "      <td>Viken</td>\n",
       "      <td>Vest</td>\n",
       "      <td>Bærum</td>\n",
       "      <td>Nordliveien</td>\n",
       "      <td>Tjernsmyr</td>\n",
       "      <td>Lokal</td>\n",
       "      <td>Viken</td>\n",
       "      <td>150</td>\n",
       "      <td>0</td>\n",
       "      <td>10:53:53</td>\n",
       "      <td>10:53:59</td>\n",
       "      <td>10:53:00</td>\n",
       "      <td>10:53:00</td>\n",
       "      <td>112</td>\n",
       "      <td>5</td>\n",
       "    </tr>\n",
       "    <tr>\n",
       "      <th>1</th>\n",
       "      <td>15002-2020-08-15T12:54:00+02:00</td>\n",
       "      <td>2020-08-15</td>\n",
       "      <td>Viken</td>\n",
       "      <td>Vest</td>\n",
       "      <td>Bærum</td>\n",
       "      <td>Nadderud stadion</td>\n",
       "      <td>Bekkestua bussterminal (Plattform C)</td>\n",
       "      <td>Lokal</td>\n",
       "      <td>Viken</td>\n",
       "      <td>150</td>\n",
       "      <td>0</td>\n",
       "      <td>13:12:20</td>\n",
       "      <td>13:12:26</td>\n",
       "      <td>13:12:00</td>\n",
       "      <td>13:12:00</td>\n",
       "      <td>112</td>\n",
       "      <td>5</td>\n",
       "    </tr>\n",
       "    <tr>\n",
       "      <th>2</th>\n",
       "      <td>15004-2020-08-03T09:54:00+02:00</td>\n",
       "      <td>2020-03-08</td>\n",
       "      <td>Viken</td>\n",
       "      <td>Vest</td>\n",
       "      <td>Bærum</td>\n",
       "      <td>Ringstabekkveien</td>\n",
       "      <td>Skallum</td>\n",
       "      <td>Lokal</td>\n",
       "      <td>Viken</td>\n",
       "      <td>150</td>\n",
       "      <td>0</td>\n",
       "      <td>10:18:56</td>\n",
       "      <td>10:19:21</td>\n",
       "      <td>10:19:00</td>\n",
       "      <td>10:19:00</td>\n",
       "      <td>112</td>\n",
       "      <td>6</td>\n",
       "    </tr>\n",
       "    <tr>\n",
       "      <th>3</th>\n",
       "      <td>15003-2020-07-27T13:00:00+02:00</td>\n",
       "      <td>2020-07-27</td>\n",
       "      <td>Viken</td>\n",
       "      <td>Vest</td>\n",
       "      <td>Bærum</td>\n",
       "      <td>Gruvemyra</td>\n",
       "      <td>Gullhaug</td>\n",
       "      <td>Lokal</td>\n",
       "      <td>Viken</td>\n",
       "      <td>150</td>\n",
       "      <td>1</td>\n",
       "      <td>13:52:04</td>\n",
       "      <td>13:52:26</td>\n",
       "      <td>13:51:00</td>\n",
       "      <td>13:51:00</td>\n",
       "      <td>112</td>\n",
       "      <td>10</td>\n",
       "    </tr>\n",
       "    <tr>\n",
       "      <th>4</th>\n",
       "      <td>15002-2020-08-27T07:15:00+02:00</td>\n",
       "      <td>2020-08-27</td>\n",
       "      <td>Viken</td>\n",
       "      <td>Vest</td>\n",
       "      <td>Bærum</td>\n",
       "      <td>Lysaker stasjon (Plattform A)</td>\n",
       "      <td>Tjernsmyr</td>\n",
       "      <td>Lokal</td>\n",
       "      <td>Viken</td>\n",
       "      <td>150</td>\n",
       "      <td>1</td>\n",
       "      <td>07:34:13</td>\n",
       "      <td>07:34:53</td>\n",
       "      <td>07:33:00</td>\n",
       "      <td>07:33:00</td>\n",
       "      <td>112</td>\n",
       "      <td>10</td>\n",
       "    </tr>\n",
       "  </tbody>\n",
       "</table>\n",
       "</div>"
      ],
      "text/plain": [
       "                             TurId       Dato  Fylke Område Kommune  \\\n",
       "0  15006-2020-08-10T10:24:00+02:00 2020-10-08  Viken   Vest   Bærum   \n",
       "1  15002-2020-08-15T12:54:00+02:00 2020-08-15  Viken   Vest   Bærum   \n",
       "2  15004-2020-08-03T09:54:00+02:00 2020-03-08  Viken   Vest   Bærum   \n",
       "3  15003-2020-07-27T13:00:00+02:00 2020-07-27  Viken   Vest   Bærum   \n",
       "4  15002-2020-08-27T07:15:00+02:00 2020-08-27  Viken   Vest   Bærum   \n",
       "\n",
       "                  Holdeplass_Fra                        Holdeplass_Til  \\\n",
       "0                    Nordliveien                             Tjernsmyr   \n",
       "1               Nadderud stadion  Bekkestua bussterminal (Plattform C)   \n",
       "2               Ringstabekkveien                               Skallum   \n",
       "3                      Gruvemyra                              Gullhaug   \n",
       "4  Lysaker stasjon (Plattform A)                             Tjernsmyr   \n",
       "\n",
       "  Linjetype Linjefylke Linjenavn  Linjeretning Faktisk_Ankomst Faktisk_Avgang  \\\n",
       "0     Lokal      Viken       150             0        10:53:53       10:53:59   \n",
       "1     Lokal      Viken       150             0        13:12:20       13:12:26   \n",
       "2     Lokal      Viken       150             0        10:18:56       10:19:21   \n",
       "3     Lokal      Viken       150             1        13:52:04       13:52:26   \n",
       "4     Lokal      Viken       150             1        07:34:13       07:34:53   \n",
       "\n",
       "  Planlagt_Ankomst Planlagt_Avgang  Kjøretøy_Kapasitet  Passasjerer_Flux  \n",
       "0         10:53:00        10:53:00                 112                 5  \n",
       "1         13:12:00        13:12:00                 112                 5  \n",
       "2         10:19:00        10:19:00                 112                 6  \n",
       "3         13:51:00        13:51:00                 112                10  \n",
       "4         07:33:00        07:33:00                 112                10  "
      ]
     },
     "execution_count": 7,
     "metadata": {},
     "output_type": "execute_result"
    }
   ],
   "source": [
    "#df.iloc[245]\n",
    "df.head(5)\n"
   ]
  },
  {
   "cell_type": "code",
   "execution_count": 8,
   "metadata": {
    "scrolled": true
   },
   "outputs": [
    {
     "name": "stdout",
     "output_type": "stream",
     "text": [
      "<class 'pandas.core.frame.DataFrame'>\n",
      "Int64Index: 5949 entries, 0 to 5999\n",
      "Data columns (total 17 columns):\n",
      " #   Column              Non-Null Count  Dtype         \n",
      "---  ------              --------------  -----         \n",
      " 0   TurId               5949 non-null   object        \n",
      " 1   Dato                5949 non-null   datetime64[ns]\n",
      " 2   Fylke               5949 non-null   object        \n",
      " 3   Område              5949 non-null   object        \n",
      " 4   Kommune             5949 non-null   object        \n",
      " 5   Holdeplass_Fra      5949 non-null   object        \n",
      " 6   Holdeplass_Til      5949 non-null   object        \n",
      " 7   Linjetype           5949 non-null   object        \n",
      " 8   Linjefylke          5949 non-null   object        \n",
      " 9   Linjenavn           5949 non-null   object        \n",
      " 10  Linjeretning        5949 non-null   int64         \n",
      " 11  Faktisk_Ankomst     5949 non-null   object        \n",
      " 12  Faktisk_Avgang      5949 non-null   object        \n",
      " 13  Planlagt_Ankomst    5949 non-null   object        \n",
      " 14  Planlagt_Avgang     5949 non-null   object        \n",
      " 15  Kjøretøy_Kapasitet  5949 non-null   int64         \n",
      " 16  Passasjerer_Flux    5949 non-null   int64         \n",
      "dtypes: datetime64[ns](1), int64(3), object(13)\n",
      "memory usage: 836.6+ KB\n"
     ]
    }
   ],
   "source": [
    "df.info()"
   ]
  },
  {
   "cell_type": "code",
   "execution_count": 9,
   "metadata": {
    "scrolled": true
   },
   "outputs": [
    {
     "name": "stdout",
     "output_type": "stream",
     "text": [
      "Feature 1: time spent at the stop\n"
     ]
    }
   ],
   "source": [
    "print(\"Feature 1: time spent at the stop\")\n",
    "df['Time_At_Stop'] = df.apply(lambda row: datetime.combine(datetime(1,1,1,0,0,0), row.Faktisk_Avgang) - datetime.combine(datetime(1,1,1,0,0,0), row.Faktisk_Ankomst), axis = 1)\n",
    "#Subtract Faktisk Avgang with Faktisk Ankomst to find time spent at the stop. (Datetime(1,1,1,0,0,0) is a dummy placeholder to be able to subtract.)"
   ]
  },
  {
   "cell_type": "code",
   "execution_count": 10,
   "metadata": {
    "scrolled": false
   },
   "outputs": [
    {
     "data": {
      "text/html": [
       "<div>\n",
       "<style scoped>\n",
       "    .dataframe tbody tr th:only-of-type {\n",
       "        vertical-align: middle;\n",
       "    }\n",
       "\n",
       "    .dataframe tbody tr th {\n",
       "        vertical-align: top;\n",
       "    }\n",
       "\n",
       "    .dataframe thead th {\n",
       "        text-align: right;\n",
       "    }\n",
       "</style>\n",
       "<table border=\"1\" class=\"dataframe\">\n",
       "  <thead>\n",
       "    <tr style=\"text-align: right;\">\n",
       "      <th></th>\n",
       "      <th>TurId</th>\n",
       "      <th>Dato</th>\n",
       "      <th>Fylke</th>\n",
       "      <th>Område</th>\n",
       "      <th>Kommune</th>\n",
       "      <th>Holdeplass_Fra</th>\n",
       "      <th>Holdeplass_Til</th>\n",
       "      <th>Linjetype</th>\n",
       "      <th>Linjefylke</th>\n",
       "      <th>Linjenavn</th>\n",
       "      <th>Linjeretning</th>\n",
       "      <th>Faktisk_Ankomst</th>\n",
       "      <th>Faktisk_Avgang</th>\n",
       "      <th>Planlagt_Ankomst</th>\n",
       "      <th>Planlagt_Avgang</th>\n",
       "      <th>Kjøretøy_Kapasitet</th>\n",
       "      <th>Passasjerer_Flux</th>\n",
       "      <th>Time_At_Stop</th>\n",
       "    </tr>\n",
       "  </thead>\n",
       "  <tbody>\n",
       "    <tr>\n",
       "      <th>0</th>\n",
       "      <td>15006-2020-08-10T10:24:00+02:00</td>\n",
       "      <td>2020-10-08</td>\n",
       "      <td>Viken</td>\n",
       "      <td>Vest</td>\n",
       "      <td>Bærum</td>\n",
       "      <td>Nordliveien</td>\n",
       "      <td>Tjernsmyr</td>\n",
       "      <td>Lokal</td>\n",
       "      <td>Viken</td>\n",
       "      <td>150</td>\n",
       "      <td>0</td>\n",
       "      <td>10:53:53</td>\n",
       "      <td>10:53:59</td>\n",
       "      <td>10:53:00</td>\n",
       "      <td>10:53:00</td>\n",
       "      <td>112</td>\n",
       "      <td>5</td>\n",
       "      <td>00:00:06</td>\n",
       "    </tr>\n",
       "    <tr>\n",
       "      <th>1</th>\n",
       "      <td>15002-2020-08-15T12:54:00+02:00</td>\n",
       "      <td>2020-08-15</td>\n",
       "      <td>Viken</td>\n",
       "      <td>Vest</td>\n",
       "      <td>Bærum</td>\n",
       "      <td>Nadderud stadion</td>\n",
       "      <td>Bekkestua bussterminal (Plattform C)</td>\n",
       "      <td>Lokal</td>\n",
       "      <td>Viken</td>\n",
       "      <td>150</td>\n",
       "      <td>0</td>\n",
       "      <td>13:12:20</td>\n",
       "      <td>13:12:26</td>\n",
       "      <td>13:12:00</td>\n",
       "      <td>13:12:00</td>\n",
       "      <td>112</td>\n",
       "      <td>5</td>\n",
       "      <td>00:00:06</td>\n",
       "    </tr>\n",
       "    <tr>\n",
       "      <th>2</th>\n",
       "      <td>15004-2020-08-03T09:54:00+02:00</td>\n",
       "      <td>2020-03-08</td>\n",
       "      <td>Viken</td>\n",
       "      <td>Vest</td>\n",
       "      <td>Bærum</td>\n",
       "      <td>Ringstabekkveien</td>\n",
       "      <td>Skallum</td>\n",
       "      <td>Lokal</td>\n",
       "      <td>Viken</td>\n",
       "      <td>150</td>\n",
       "      <td>0</td>\n",
       "      <td>10:18:56</td>\n",
       "      <td>10:19:21</td>\n",
       "      <td>10:19:00</td>\n",
       "      <td>10:19:00</td>\n",
       "      <td>112</td>\n",
       "      <td>6</td>\n",
       "      <td>00:00:25</td>\n",
       "    </tr>\n",
       "    <tr>\n",
       "      <th>3</th>\n",
       "      <td>15003-2020-07-27T13:00:00+02:00</td>\n",
       "      <td>2020-07-27</td>\n",
       "      <td>Viken</td>\n",
       "      <td>Vest</td>\n",
       "      <td>Bærum</td>\n",
       "      <td>Gruvemyra</td>\n",
       "      <td>Gullhaug</td>\n",
       "      <td>Lokal</td>\n",
       "      <td>Viken</td>\n",
       "      <td>150</td>\n",
       "      <td>1</td>\n",
       "      <td>13:52:04</td>\n",
       "      <td>13:52:26</td>\n",
       "      <td>13:51:00</td>\n",
       "      <td>13:51:00</td>\n",
       "      <td>112</td>\n",
       "      <td>10</td>\n",
       "      <td>00:00:22</td>\n",
       "    </tr>\n",
       "    <tr>\n",
       "      <th>4</th>\n",
       "      <td>15002-2020-08-27T07:15:00+02:00</td>\n",
       "      <td>2020-08-27</td>\n",
       "      <td>Viken</td>\n",
       "      <td>Vest</td>\n",
       "      <td>Bærum</td>\n",
       "      <td>Lysaker stasjon (Plattform A)</td>\n",
       "      <td>Tjernsmyr</td>\n",
       "      <td>Lokal</td>\n",
       "      <td>Viken</td>\n",
       "      <td>150</td>\n",
       "      <td>1</td>\n",
       "      <td>07:34:13</td>\n",
       "      <td>07:34:53</td>\n",
       "      <td>07:33:00</td>\n",
       "      <td>07:33:00</td>\n",
       "      <td>112</td>\n",
       "      <td>10</td>\n",
       "      <td>00:00:40</td>\n",
       "    </tr>\n",
       "  </tbody>\n",
       "</table>\n",
       "</div>"
      ],
      "text/plain": [
       "                             TurId       Dato  Fylke Område Kommune  \\\n",
       "0  15006-2020-08-10T10:24:00+02:00 2020-10-08  Viken   Vest   Bærum   \n",
       "1  15002-2020-08-15T12:54:00+02:00 2020-08-15  Viken   Vest   Bærum   \n",
       "2  15004-2020-08-03T09:54:00+02:00 2020-03-08  Viken   Vest   Bærum   \n",
       "3  15003-2020-07-27T13:00:00+02:00 2020-07-27  Viken   Vest   Bærum   \n",
       "4  15002-2020-08-27T07:15:00+02:00 2020-08-27  Viken   Vest   Bærum   \n",
       "\n",
       "                  Holdeplass_Fra                        Holdeplass_Til  \\\n",
       "0                    Nordliveien                             Tjernsmyr   \n",
       "1               Nadderud stadion  Bekkestua bussterminal (Plattform C)   \n",
       "2               Ringstabekkveien                               Skallum   \n",
       "3                      Gruvemyra                              Gullhaug   \n",
       "4  Lysaker stasjon (Plattform A)                             Tjernsmyr   \n",
       "\n",
       "  Linjetype Linjefylke Linjenavn  Linjeretning Faktisk_Ankomst Faktisk_Avgang  \\\n",
       "0     Lokal      Viken       150             0        10:53:53       10:53:59   \n",
       "1     Lokal      Viken       150             0        13:12:20       13:12:26   \n",
       "2     Lokal      Viken       150             0        10:18:56       10:19:21   \n",
       "3     Lokal      Viken       150             1        13:52:04       13:52:26   \n",
       "4     Lokal      Viken       150             1        07:34:13       07:34:53   \n",
       "\n",
       "  Planlagt_Ankomst Planlagt_Avgang  Kjøretøy_Kapasitet  Passasjerer_Flux  \\\n",
       "0         10:53:00        10:53:00                 112                 5   \n",
       "1         13:12:00        13:12:00                 112                 5   \n",
       "2         10:19:00        10:19:00                 112                 6   \n",
       "3         13:51:00        13:51:00                 112                10   \n",
       "4         07:33:00        07:33:00                 112                10   \n",
       "\n",
       "  Time_At_Stop  \n",
       "0     00:00:06  \n",
       "1     00:00:06  \n",
       "2     00:00:25  \n",
       "3     00:00:22  \n",
       "4     00:00:40  "
      ]
     },
     "execution_count": 10,
     "metadata": {},
     "output_type": "execute_result"
    }
   ],
   "source": [
    "df.head()"
   ]
  },
  {
   "cell_type": "code",
   "execution_count": 11,
   "metadata": {},
   "outputs": [],
   "source": [
    "df['Ukedag'] = df['Dato'].dt.day_name()"
   ]
  },
  {
   "cell_type": "code",
   "execution_count": 12,
   "metadata": {},
   "outputs": [
    {
     "name": "stdout",
     "output_type": "stream",
     "text": [
      "Feature 2: arrival delay\n"
     ]
    },
    {
     "data": {
      "text/plain": [
       "TurId                        30001-2020-06-26T14:35:00+02:00\n",
       "Dato                                     2020-06-26 00:00:00\n",
       "Fylke                                                  Viken\n",
       "Område                                               Nordøst\n",
       "Kommune                                           Lillestrøm\n",
       "Holdeplass_Fra                               Jonas Lies gate\n",
       "Holdeplass_Til        Lillestrøm bussterminal (Plattform 18)\n",
       "Linjetype                                              Lokal\n",
       "Linjefylke                                             Viken\n",
       "Linjenavn                                                110\n",
       "Linjeretning                                               1\n",
       "Faktisk_Ankomst                                     15:27:32\n",
       "Faktisk_Avgang                                      15:27:39\n",
       "Planlagt_Ankomst                                    15:24:00\n",
       "Planlagt_Avgang                                     15:24:00\n",
       "Kjøretøy_Kapasitet                                       106\n",
       "Passasjerer_Flux                                           7\n",
       "Time_At_Stop                                 0 days 00:00:07\n",
       "Ukedag                                                Friday\n",
       "Forsinkelse                                  0 days 00:03:32\n",
       "Name: 246, dtype: object"
      ]
     },
     "execution_count": 12,
     "metadata": {},
     "output_type": "execute_result"
    }
   ],
   "source": [
    "print(\"Feature 2: arrival delay\")\n",
    "df['Forsinkelse'] = df.apply(lambda row: datetime.combine(datetime(1,1,1,0,0,0), row.Faktisk_Ankomst) - datetime.combine(datetime(1,1,1,0,0,0), row.Planlagt_Ankomst), axis = 1)\n",
    "df.iloc[245]\n",
    "# Subtract Faktisk Avgang with Planlagt Avgang to find the delay/anticipation in departure. (Datetime(1,1,1,0,0,0) is a dummy placeholder to be able to subtract.)"
   ]
  },
  {
   "cell_type": "code",
   "execution_count": 13,
   "metadata": {
    "scrolled": false
   },
   "outputs": [
    {
     "data": {
      "text/plain": [
       "Text(0.5, 1.0, 'Stop Time Based on day of the week')"
      ]
     },
     "execution_count": 13,
     "metadata": {},
     "output_type": "execute_result"
    },
    {
     "data": {
      "image/png": "[encoded data removed]",
      "text/plain": [
       "<Figure size 1600x640 with 1 Axes>"
      ]
     },
     "metadata": {},
     "output_type": "display_data"
    }
   ],
   "source": [
    "figure(num=None, figsize=(20, 8), dpi=80, facecolor='w', edgecolor='k')  #Set the size of plotdf = df.sort_values('Dato', ascending=True)                             #Sorting dates (dont know if this is needed)\n",
    "plot.plot(df['Ukedag'], df['Time_At_Stop'], 'o')                      #Plotting Stoptime with date, 'o' - gives scatter plot\n",
    "plot.xticks(rotation='vertical')\n",
    "plot.title('Stop Time Based on day of the week')"
   ]
  },
  {
   "cell_type": "code",
   "execution_count": null,
   "metadata": {},
   "outputs": [],
   "source": []
  },
  {
   "cell_type": "code",
   "execution_count": 14,
   "metadata": {},
   "outputs": [
    {
     "data": {
      "text/plain": [
       "Timedelta('0 days 00:00:29.630526')"
      ]
     },
     "execution_count": 14,
     "metadata": {},
     "output_type": "execute_result"
    }
   ],
   "source": [
    "df[\"Time_At_Stop\"].mean()"
   ]
  },
  {
   "cell_type": "code",
   "execution_count": 15,
   "metadata": {},
   "outputs": [
    {
     "data": {
      "text/html": [
       "<div>\n",
       "<style scoped>\n",
       "    .dataframe tbody tr th:only-of-type {\n",
       "        vertical-align: middle;\n",
       "    }\n",
       "\n",
       "    .dataframe tbody tr th {\n",
       "        vertical-align: top;\n",
       "    }\n",
       "\n",
       "    .dataframe thead th {\n",
       "        text-align: right;\n",
       "    }\n",
       "</style>\n",
       "<table border=\"1\" class=\"dataframe\">\n",
       "  <thead>\n",
       "    <tr style=\"text-align: right;\">\n",
       "      <th></th>\n",
       "      <th>TurId</th>\n",
       "      <th>Dato</th>\n",
       "      <th>Fylke</th>\n",
       "      <th>Område</th>\n",
       "      <th>Kommune</th>\n",
       "      <th>Holdeplass_Fra</th>\n",
       "      <th>Holdeplass_Til</th>\n",
       "      <th>Linjetype</th>\n",
       "      <th>Linjefylke</th>\n",
       "      <th>Linjenavn</th>\n",
       "      <th>Linjeretning</th>\n",
       "      <th>Faktisk_Ankomst</th>\n",
       "      <th>Faktisk_Avgang</th>\n",
       "      <th>Planlagt_Ankomst</th>\n",
       "      <th>Planlagt_Avgang</th>\n",
       "      <th>Kjøretøy_Kapasitet</th>\n",
       "      <th>Passasjerer_Flux</th>\n",
       "      <th>Time_At_Stop</th>\n",
       "      <th>Ukedag</th>\n",
       "      <th>Forsinkelse</th>\n",
       "    </tr>\n",
       "  </thead>\n",
       "  <tbody>\n",
       "    <tr>\n",
       "      <th>568</th>\n",
       "      <td>45509-2020-08-20T17:48:00+02:00</td>\n",
       "      <td>2020-08-20</td>\n",
       "      <td>Viken</td>\n",
       "      <td>Nordøst</td>\n",
       "      <td>Lillestrøm</td>\n",
       "      <td>Rånåsfoss stasjon (buss)</td>\n",
       "      <td>Sandnesvegen</td>\n",
       "      <td>Lokal</td>\n",
       "      <td>Viken</td>\n",
       "      <td>455</td>\n",
       "      <td>1</td>\n",
       "      <td>17:33:01</td>\n",
       "      <td>17:53:41</td>\n",
       "      <td>17:48:00</td>\n",
       "      <td>17:48:00</td>\n",
       "      <td>80</td>\n",
       "      <td>0</td>\n",
       "      <td>00:20:40</td>\n",
       "      <td>Thursday</td>\n",
       "      <td>-1 days +23:45:01</td>\n",
       "    </tr>\n",
       "  </tbody>\n",
       "</table>\n",
       "</div>"
      ],
      "text/plain": [
       "                               TurId       Dato  Fylke   Område     Kommune  \\\n",
       "568  45509-2020-08-20T17:48:00+02:00 2020-08-20  Viken  Nordøst  Lillestrøm   \n",
       "\n",
       "               Holdeplass_Fra Holdeplass_Til Linjetype Linjefylke Linjenavn  \\\n",
       "568  Rånåsfoss stasjon (buss)   Sandnesvegen     Lokal      Viken       455   \n",
       "\n",
       "     Linjeretning Faktisk_Ankomst Faktisk_Avgang Planlagt_Ankomst  \\\n",
       "568             1        17:33:01       17:53:41         17:48:00   \n",
       "\n",
       "    Planlagt_Avgang  Kjøretøy_Kapasitet  Passasjerer_Flux Time_At_Stop  \\\n",
       "568        17:48:00                  80                 0     00:20:40   \n",
       "\n",
       "       Ukedag       Forsinkelse  \n",
       "568  Thursday -1 days +23:45:01  "
      ]
     },
     "execution_count": 15,
     "metadata": {},
     "output_type": "execute_result"
    }
   ],
   "source": [
    "df[df['Time_At_Stop']==df['Time_At_Stop'].max()]"
   ]
  },
  {
   "cell_type": "code",
   "execution_count": 16,
   "metadata": {},
   "outputs": [],
   "source": [
    "\n",
    "#df.drop([491], inplace=True) "
   ]
  },
  {
   "cell_type": "code",
   "execution_count": 17,
   "metadata": {},
   "outputs": [
    {
     "data": {
      "text/html": [
       "<div>\n",
       "<style scoped>\n",
       "    .dataframe tbody tr th:only-of-type {\n",
       "        vertical-align: middle;\n",
       "    }\n",
       "\n",
       "    .dataframe tbody tr th {\n",
       "        vertical-align: top;\n",
       "    }\n",
       "\n",
       "    .dataframe thead th {\n",
       "        text-align: right;\n",
       "    }\n",
       "</style>\n",
       "<table border=\"1\" class=\"dataframe\">\n",
       "  <thead>\n",
       "    <tr style=\"text-align: right;\">\n",
       "      <th></th>\n",
       "      <th>TurId</th>\n",
       "      <th>Dato</th>\n",
       "      <th>Fylke</th>\n",
       "      <th>Område</th>\n",
       "      <th>Kommune</th>\n",
       "      <th>Holdeplass_Fra</th>\n",
       "      <th>Holdeplass_Til</th>\n",
       "      <th>Linjetype</th>\n",
       "      <th>Linjefylke</th>\n",
       "      <th>Linjenavn</th>\n",
       "      <th>Linjeretning</th>\n",
       "      <th>Faktisk_Ankomst</th>\n",
       "      <th>Faktisk_Avgang</th>\n",
       "      <th>Planlagt_Ankomst</th>\n",
       "      <th>Planlagt_Avgang</th>\n",
       "      <th>Kjøretøy_Kapasitet</th>\n",
       "      <th>Passasjerer_Flux</th>\n",
       "      <th>Time_At_Stop</th>\n",
       "      <th>Ukedag</th>\n",
       "      <th>Forsinkelse</th>\n",
       "    </tr>\n",
       "  </thead>\n",
       "  <tbody>\n",
       "    <tr>\n",
       "      <th>491</th>\n",
       "      <td>55011-2020-07-25T23:30:00+02:00</td>\n",
       "      <td>2020-07-25</td>\n",
       "      <td>Viken</td>\n",
       "      <td>Nordøst</td>\n",
       "      <td>Rælingen</td>\n",
       "      <td>Nordby skole</td>\n",
       "      <td>Skjønberg</td>\n",
       "      <td>Lokal</td>\n",
       "      <td>Viken</td>\n",
       "      <td>350</td>\n",
       "      <td>1</td>\n",
       "      <td>23:58:21</td>\n",
       "      <td>23:58:23</td>\n",
       "      <td>00:01:00</td>\n",
       "      <td>00:01:00</td>\n",
       "      <td>80</td>\n",
       "      <td>10</td>\n",
       "      <td>00:00:02</td>\n",
       "      <td>Saturday</td>\n",
       "      <td>23:57:21</td>\n",
       "    </tr>\n",
       "  </tbody>\n",
       "</table>\n",
       "</div>"
      ],
      "text/plain": [
       "                               TurId       Dato  Fylke   Område   Kommune  \\\n",
       "491  55011-2020-07-25T23:30:00+02:00 2020-07-25  Viken  Nordøst  Rælingen   \n",
       "\n",
       "    Holdeplass_Fra Holdeplass_Til Linjetype Linjefylke Linjenavn  \\\n",
       "491   Nordby skole      Skjønberg     Lokal      Viken       350   \n",
       "\n",
       "     Linjeretning Faktisk_Ankomst Faktisk_Avgang Planlagt_Ankomst  \\\n",
       "491             1        23:58:21       23:58:23         00:01:00   \n",
       "\n",
       "    Planlagt_Avgang  Kjøretøy_Kapasitet  Passasjerer_Flux Time_At_Stop  \\\n",
       "491        00:01:00                  80                10     00:00:02   \n",
       "\n",
       "       Ukedag Forsinkelse  \n",
       "491  Saturday    23:57:21  "
      ]
     },
     "execution_count": 17,
     "metadata": {},
     "output_type": "execute_result"
    }
   ],
   "source": [
    "df[df['Forsinkelse']==df['Forsinkelse'].max()]"
   ]
  },
  {
   "cell_type": "code",
   "execution_count": 18,
   "metadata": {
    "scrolled": false
   },
   "outputs": [
    {
     "data": {
      "text/plain": [
       "Text(0.5, 1.0, 'Forsinkelse')"
      ]
     },
     "execution_count": 18,
     "metadata": {},
     "output_type": "execute_result"
    },
    {
     "data": {
      "image/png": "[encoded data removed]",
      "text/plain": [
       "<Figure size 1600x640 with 1 Axes>"
      ]
     },
     "metadata": {},
     "output_type": "display_data"
    }
   ],
   "source": [
    "figure(num=None, figsize=(20, 8), dpi=80, facecolor='w', edgecolor='k')  #Set the size of plotdf = df.sort_values('Dato', ascending=True)                             #Sorting dates (dont know if this is needed)\n",
    "plot.plot(df['Ukedag'], df['Forsinkelse'], 'o')                      #Plotting Stoptime with date, 'o' - gives scatter plot\n",
    "plot.xticks(rotation='vertical')\n",
    "plot.title('Forsinkelse')"
   ]
  },
  {
   "cell_type": "code",
   "execution_count": 19,
   "metadata": {},
   "outputs": [
    {
     "data": {
      "text/plain": [
       "(Timedelta('-1 days +23:53:01.700000'), Timedelta('0 days 00:09:14.600000'))"
      ]
     },
     "execution_count": 19,
     "metadata": {},
     "output_type": "execute_result"
    }
   ],
   "source": [
    "lower_limit, upper_limit = df.Forsinkelse.quantile([0.025,0.975])\n",
    "lower_limit, upper_limit"
   ]
  },
  {
   "cell_type": "code",
   "execution_count": 20,
   "metadata": {},
   "outputs": [
    {
     "data": {
      "text/plain": [
       "(5949, 20)"
      ]
     },
     "execution_count": 20,
     "metadata": {},
     "output_type": "execute_result"
    }
   ],
   "source": [
    "df.shape"
   ]
  },
  {
   "cell_type": "code",
   "execution_count": 21,
   "metadata": {},
   "outputs": [
    {
     "data": {
      "text/plain": [
       "(5651, 20)"
      ]
     },
     "execution_count": 21,
     "metadata": {},
     "output_type": "execute_result"
    }
   ],
   "source": [
    "df2 = df[(df.Forsinkelse>lower_limit)&(df.Forsinkelse<upper_limit)]\n",
    "df2.shape"
   ]
  },
  {
   "cell_type": "code",
   "execution_count": 22,
   "metadata": {
    "scrolled": false
   },
   "outputs": [
    {
     "data": {
      "text/plain": [
       "Text(0.5, 1.0, 'Forsinkelse')"
      ]
     },
     "execution_count": 22,
     "metadata": {},
     "output_type": "execute_result"
    },
    {
     "data": {
      "image/png": "[encoded data removed]",
      "text/plain": [
       "<Figure size 1600x640 with 1 Axes>"
      ]
     },
     "metadata": {},
     "output_type": "display_data"
    }
   ],
   "source": [
    "figure(num=None, figsize=(20, 8), dpi=80, facecolor='w', edgecolor='k')  #Set the size of plotdf = df.sort_values('Dato', ascending=True)                             #Sorting dates (dont know if this is needed)\n",
    "plot.plot(df2['Forsinkelse'], df2['Ukedag'], '.')                      #Plotting Stoptime with date, 'o' - gives scatter plot\n",
    "plot.xticks(rotation='horizontal')\n",
    "plot.title('Forsinkelse')"
   ]
  },
  {
   "cell_type": "code",
   "execution_count": 23,
   "metadata": {},
   "outputs": [
    {
     "name": "stdout",
     "output_type": "stream",
     "text": [
      "-418.0\n",
      "972.0\n"
     ]
    },
    {
     "data": {
      "image/png": "[encoded data removed]",
      "text/plain": [
       "<Figure size 1080x1080 with 2 Axes>"
      ]
     },
     "metadata": {
      "needs_background": "light"
     },
     "output_type": "display_data"
    }
   ],
   "source": [
    "#This section is heavily based on matplotlib's documentation\n",
    "    #https://matplotlib.org/3.1.1/gallery/images_contours_and_fields/image_annotated_heatmap.html\n",
    "    #https://matplotlib.org/3.1.1/api/_as_gen/matplotlib.pyplot.tick_params.html#matplotlib.pyplot.tick_params\n",
    "    #https://matplotlib.org/3.1.1/api/colorbar_api.html#matplotlib.colorbar.Colorbar\n",
    "def countDelays(rowNameY, rowNameX):\n",
    "\n",
    "    minDelay = df2[rowNameX].min().total_seconds()\n",
    "    maxDelay = df2[rowNameX].max().total_seconds() - minDelay\n",
    "    print(minDelay)\n",
    "    print(maxDelay)\n",
    "    \n",
    "    bins = 140\n",
    "    grid = np.zeros((7, bins))\n",
    "    nrTicks = 28\n",
    "    ticks = [None] * nrTicks\n",
    "    \n",
    "    i=0\n",
    "    while i<nrTicks:\n",
    "        totalSecs = minDelay + (i*(maxDelay/nrTicks))\n",
    "        minutes, seconds = divmod(totalSecs, 60)\n",
    "        minutes = int(minutes)\n",
    "        seconds = int(seconds)\n",
    "        ticks[i] = str(minutes)+\"min \"+str(seconds)+\"s\"\n",
    "        i = i+1\n",
    "        \n",
    "    days = [\"Monday\", \"Tuesday\", \"Wednesday\", \"Thursday\", \"Friday\", \"Saturday\", \"Sunday\"]\n",
    "    \n",
    "    for j, row in df2.iterrows():\n",
    "        day = row[rowNameY]\n",
    "        delay = row[rowNameX].total_seconds() - minDelay\n",
    "        toBin = math.floor(delay/maxDelay*(bins-1))\n",
    "        \n",
    "        dayNr=-1\n",
    "        \n",
    "        k=0\n",
    "        while k<7:\n",
    "            if day==days[k]:\n",
    "                dayNr=k\n",
    "            k=k+1\n",
    "        \n",
    "        if(dayNr != -1):\n",
    "            grid[dayNr, toBin] = grid[dayNr, toBin] + 1\n",
    "\n",
    "    fig, ax = plot.subplots(figsize=(15, 15))\n",
    "    im = ax.imshow(grid, cmap='gist_yarg')\n",
    "    ax.set_aspect(7)\n",
    "    \n",
    "    #plot.axvline(x = 0, linewidth=1, color='r')\n",
    "\n",
    "    # Setting up ticks\n",
    "    ax.set_xticks(np.arange(len(ticks)))\n",
    "    plot.xticks(np.arange(0, 140, step=5))\n",
    "    ax.set_xticklabels(ticks)\n",
    "    ax.set_yticks(np.arange(len(days)))\n",
    "    ax.set_yticklabels(days)\n",
    "    ax.tick_params(axis='both', labelsize=12)\n",
    "    plot.setp(ax.get_xticklabels(), rotation=45, ha=\"right\",\n",
    "         rotation_mode=\"anchor\")\n",
    "    \n",
    "    #Colourbar\n",
    "    cbar = ax.figure.colorbar(im, ax=ax, fraction=0.0165)\n",
    "    cbar.ax.set_ylabel(\"Number of buses delayed\", rotation=-90, va=\"bottom\")\n",
    "    \n",
    "    #Set title and show\n",
    "    ax.set_title(\"Delay of buses per day of the week (in minutes and seconds)\")\n",
    "    fig.tight_layout()\n",
    "    plot.show()\n",
    "\n",
    "countDelays('Ukedag', 'Forsinkelse')"
   ]
  },
  {
   "cell_type": "code",
   "execution_count": null,
   "metadata": {},
   "outputs": [],
   "source": []
  },
  {
   "cell_type": "code",
   "execution_count": 24,
   "metadata": {},
   "outputs": [],
   "source": [
    "df = df.sort_values('Dato', ascending=True)"
   ]
  },
  {
   "cell_type": "code",
   "execution_count": 25,
   "metadata": {
    "scrolled": false
   },
   "outputs": [
    {
     "data": {
      "text/plain": [
       "Text(0, 0.5, 'Count')"
      ]
     },
     "execution_count": 25,
     "metadata": {},
     "output_type": "execute_result"
    },
    {
     "data": {
      "image/png": "[encoded data removed]",
      "text/plain": [
       "<Figure size 1600x640 with 1 Axes>"
      ]
     },
     "metadata": {},
     "output_type": "display_data"
    }
   ],
   "source": [
    "figure(num=None, figsize=(20, 8), dpi=80, facecolor='w', edgecolor='k')  #Set the size of plot\n",
    "plot.hist(df.Område, bins=4, rwidth=1)\n",
    "plot.xlabel('Område')\n",
    "plot.ylabel('Count')"
   ]
  },
  {
   "cell_type": "code",
   "execution_count": 26,
   "metadata": {},
   "outputs": [
    {
     "data": {
      "text/html": [
       "<div>\n",
       "<style scoped>\n",
       "    .dataframe tbody tr th:only-of-type {\n",
       "        vertical-align: middle;\n",
       "    }\n",
       "\n",
       "    .dataframe tbody tr th {\n",
       "        vertical-align: top;\n",
       "    }\n",
       "\n",
       "    .dataframe thead th {\n",
       "        text-align: right;\n",
       "    }\n",
       "</style>\n",
       "<table border=\"1\" class=\"dataframe\">\n",
       "  <thead>\n",
       "    <tr style=\"text-align: right;\">\n",
       "      <th></th>\n",
       "      <th>TurId</th>\n",
       "      <th>Dato</th>\n",
       "      <th>Fylke</th>\n",
       "      <th>Område</th>\n",
       "      <th>Kommune</th>\n",
       "      <th>Holdeplass_Fra</th>\n",
       "      <th>Holdeplass_Til</th>\n",
       "      <th>Linjetype</th>\n",
       "      <th>Linjefylke</th>\n",
       "      <th>Linjenavn</th>\n",
       "      <th>...</th>\n",
       "      <th>Faktisk_Ankomst</th>\n",
       "      <th>Faktisk_Avgang</th>\n",
       "      <th>Planlagt_Ankomst</th>\n",
       "      <th>Planlagt_Avgang</th>\n",
       "      <th>Kjøretøy_Kapasitet</th>\n",
       "      <th>Passasjerer_Flux</th>\n",
       "      <th>Time_At_Stop</th>\n",
       "      <th>Ukedag</th>\n",
       "      <th>Forsinkelse</th>\n",
       "      <th>Time_At_Stop_Float</th>\n",
       "    </tr>\n",
       "  </thead>\n",
       "  <tbody>\n",
       "    <tr>\n",
       "      <th>5093</th>\n",
       "      <td>12009-2020-06-01T14:28:00+02:00</td>\n",
       "      <td>2020-01-06</td>\n",
       "      <td>Oslo</td>\n",
       "      <td>Nordøst</td>\n",
       "      <td>Stovner</td>\n",
       "      <td>Øvre Fossum  (mot Stovner T)</td>\n",
       "      <td>Stovner T (i Fossumveien)</td>\n",
       "      <td>Lokal</td>\n",
       "      <td>Viken</td>\n",
       "      <td>120</td>\n",
       "      <td>...</td>\n",
       "      <td>14:53:21</td>\n",
       "      <td>14:53:55</td>\n",
       "      <td>14:52:00</td>\n",
       "      <td>14:52:00</td>\n",
       "      <td>72</td>\n",
       "      <td>7</td>\n",
       "      <td>00:00:34</td>\n",
       "      <td>Monday</td>\n",
       "      <td>00:01:21</td>\n",
       "      <td>34.0</td>\n",
       "    </tr>\n",
       "    <tr>\n",
       "      <th>657</th>\n",
       "      <td>3105-2020-06-01T07:42:00+02:00</td>\n",
       "      <td>2020-01-06</td>\n",
       "      <td>Oslo</td>\n",
       "      <td>Nordøst</td>\n",
       "      <td>Bjerke</td>\n",
       "      <td>Veitvet  (mot Kalbakken)</td>\n",
       "      <td>Rødtvet  (mot Kalbakken)</td>\n",
       "      <td>Lokal</td>\n",
       "      <td>Oslo</td>\n",
       "      <td>31</td>\n",
       "      <td>...</td>\n",
       "      <td>08:38:34</td>\n",
       "      <td>08:38:58</td>\n",
       "      <td>08:37:00</td>\n",
       "      <td>08:37:00</td>\n",
       "      <td>151</td>\n",
       "      <td>0</td>\n",
       "      <td>00:00:24</td>\n",
       "      <td>Monday</td>\n",
       "      <td>00:01:34</td>\n",
       "      <td>24.0</td>\n",
       "    </tr>\n",
       "    <tr>\n",
       "      <th>5783</th>\n",
       "      <td>3102-2020-06-01T21:36:00+02:00</td>\n",
       "      <td>2020-01-06</td>\n",
       "      <td>Oslo</td>\n",
       "      <td>Indre By</td>\n",
       "      <td>Sentrum</td>\n",
       "      <td>Wessels plass  (mot Jernbanetorget)</td>\n",
       "      <td>Kvadraturen (mot øst)</td>\n",
       "      <td>Lokal</td>\n",
       "      <td>Oslo</td>\n",
       "      <td>31</td>\n",
       "      <td>...</td>\n",
       "      <td>22:01:12</td>\n",
       "      <td>22:01:43</td>\n",
       "      <td>22:01:00</td>\n",
       "      <td>22:01:00</td>\n",
       "      <td>151</td>\n",
       "      <td>15</td>\n",
       "      <td>00:00:31</td>\n",
       "      <td>Monday</td>\n",
       "      <td>00:00:12</td>\n",
       "      <td>31.0</td>\n",
       "    </tr>\n",
       "    <tr>\n",
       "      <th>2247</th>\n",
       "      <td>42501-2020-06-01T04:08:00+02:00</td>\n",
       "      <td>2020-01-06</td>\n",
       "      <td>Viken</td>\n",
       "      <td>Nordøst</td>\n",
       "      <td>Ullensaker</td>\n",
       "      <td>Averstadmoen</td>\n",
       "      <td>Skinnerudvegen</td>\n",
       "      <td>Lokal</td>\n",
       "      <td>Viken</td>\n",
       "      <td>425</td>\n",
       "      <td>...</td>\n",
       "      <td>04:19:16</td>\n",
       "      <td>04:19:18</td>\n",
       "      <td>04:19:00</td>\n",
       "      <td>04:19:00</td>\n",
       "      <td>80</td>\n",
       "      <td>0</td>\n",
       "      <td>00:00:02</td>\n",
       "      <td>Monday</td>\n",
       "      <td>00:00:16</td>\n",
       "      <td>2.0</td>\n",
       "    </tr>\n",
       "    <tr>\n",
       "      <th>4278</th>\n",
       "      <td>47004-2020-06-01T17:30:00+02:00</td>\n",
       "      <td>2020-01-06</td>\n",
       "      <td>Viken</td>\n",
       "      <td>Nordøst</td>\n",
       "      <td>Lillestrøm</td>\n",
       "      <td>Nygårdstoppen</td>\n",
       "      <td>Øvre Dalen</td>\n",
       "      <td>Lokal</td>\n",
       "      <td>Viken</td>\n",
       "      <td>480</td>\n",
       "      <td>...</td>\n",
       "      <td>17:54:51</td>\n",
       "      <td>17:54:57</td>\n",
       "      <td>17:52:00</td>\n",
       "      <td>17:52:00</td>\n",
       "      <td>106</td>\n",
       "      <td>14</td>\n",
       "      <td>00:00:06</td>\n",
       "      <td>Monday</td>\n",
       "      <td>00:02:51</td>\n",
       "      <td>6.0</td>\n",
       "    </tr>\n",
       "  </tbody>\n",
       "</table>\n",
       "<p>5 rows × 21 columns</p>\n",
       "</div>"
      ],
      "text/plain": [
       "                                TurId       Dato  Fylke    Område     Kommune  \\\n",
       "5093  12009-2020-06-01T14:28:00+02:00 2020-01-06   Oslo   Nordøst     Stovner   \n",
       "657    3105-2020-06-01T07:42:00+02:00 2020-01-06   Oslo   Nordøst      Bjerke   \n",
       "5783   3102-2020-06-01T21:36:00+02:00 2020-01-06   Oslo  Indre By     Sentrum   \n",
       "2247  42501-2020-06-01T04:08:00+02:00 2020-01-06  Viken   Nordøst  Ullensaker   \n",
       "4278  47004-2020-06-01T17:30:00+02:00 2020-01-06  Viken   Nordøst  Lillestrøm   \n",
       "\n",
       "                           Holdeplass_Fra             Holdeplass_Til  \\\n",
       "5093         Øvre Fossum  (mot Stovner T)  Stovner T (i Fossumveien)   \n",
       "657              Veitvet  (mot Kalbakken)   Rødtvet  (mot Kalbakken)   \n",
       "5783  Wessels plass  (mot Jernbanetorget)      Kvadraturen (mot øst)   \n",
       "2247                         Averstadmoen             Skinnerudvegen   \n",
       "4278                        Nygårdstoppen                 Øvre Dalen   \n",
       "\n",
       "     Linjetype Linjefylke Linjenavn  ...  Faktisk_Ankomst Faktisk_Avgang  \\\n",
       "5093     Lokal      Viken       120  ...         14:53:21       14:53:55   \n",
       "657      Lokal       Oslo        31  ...         08:38:34       08:38:58   \n",
       "5783     Lokal       Oslo        31  ...         22:01:12       22:01:43   \n",
       "2247     Lokal      Viken       425  ...         04:19:16       04:19:18   \n",
       "4278     Lokal      Viken       480  ...         17:54:51       17:54:57   \n",
       "\n",
       "     Planlagt_Ankomst Planlagt_Avgang Kjøretøy_Kapasitet  Passasjerer_Flux  \\\n",
       "5093         14:52:00        14:52:00                 72                 7   \n",
       "657          08:37:00        08:37:00                151                 0   \n",
       "5783         22:01:00        22:01:00                151                15   \n",
       "2247         04:19:00        04:19:00                 80                 0   \n",
       "4278         17:52:00        17:52:00                106                14   \n",
       "\n",
       "      Time_At_Stop  Ukedag Forsinkelse Time_At_Stop_Float  \n",
       "5093      00:00:34  Monday    00:01:21               34.0  \n",
       "657       00:00:24  Monday    00:01:34               24.0  \n",
       "5783      00:00:31  Monday    00:00:12               31.0  \n",
       "2247      00:00:02  Monday    00:00:16                2.0  \n",
       "4278      00:00:06  Monday    00:02:51                6.0  \n",
       "\n",
       "[5 rows x 21 columns]"
      ]
     },
     "execution_count": 26,
     "metadata": {},
     "output_type": "execute_result"
    }
   ],
   "source": [
    "# Average time at the stop per område\n",
    "\n",
    "\n",
    "x = \"Time_At_Stop\"                                                                 #The col that will be converted\n",
    "df = df.sort_values('Dato', ascending=True)\n",
    "df['Time_At_Stop_Float'] = df.apply(lambda row: row[x].total_seconds(), axis = 1)  #Converting datetime to float\n",
    "timePrStopArea=df[['Område', 'Time_At_Stop_Float']].groupby(['Område']).mean()     #Grouping by area and taking the mean of stop time\n",
    "timePrStopWeekday=df[['Ukedag', 'Time_At_Stop_Float']].groupby(['Ukedag']).mean()  #Grouping by weekday and taking the mean of stop time\n",
    "\n",
    "df.head()"
   ]
  },
  {
   "cell_type": "code",
   "execution_count": 27,
   "metadata": {},
   "outputs": [
    {
     "data": {
      "image/png": "[encoded data removed]",
      "text/plain": [
       "<Figure size 640x480 with 1 Axes>"
      ]
     },
     "metadata": {},
     "output_type": "display_data"
    }
   ],
   "source": [
    "with plot.style.context('default'):  #Using the default plot theme\n",
    "\n",
    "    timePrStopArea.plot.bar()                     #Barplot of the dataframe\n",
    "    plot.rcParams[\"figure.figsize\"] = [10, 8]     #Setting size\n",
    "    plot.xticks(rotation='vertical')\n",
    "    plot.title('Stop Time Based zone')            "
   ]
  },
  {
   "cell_type": "code",
   "execution_count": 28,
   "metadata": {},
   "outputs": [
    {
     "data": {
      "text/html": [
       "<div>\n",
       "<style scoped>\n",
       "    .dataframe tbody tr th:only-of-type {\n",
       "        vertical-align: middle;\n",
       "    }\n",
       "\n",
       "    .dataframe tbody tr th {\n",
       "        vertical-align: top;\n",
       "    }\n",
       "\n",
       "    .dataframe thead th {\n",
       "        text-align: right;\n",
       "    }\n",
       "</style>\n",
       "<table border=\"1\" class=\"dataframe\">\n",
       "  <thead>\n",
       "    <tr style=\"text-align: right;\">\n",
       "      <th></th>\n",
       "      <th>Time_At_Stop_Float</th>\n",
       "    </tr>\n",
       "    <tr>\n",
       "      <th>Ukedag</th>\n",
       "      <th></th>\n",
       "    </tr>\n",
       "  </thead>\n",
       "  <tbody>\n",
       "    <tr>\n",
       "      <th>Friday</th>\n",
       "      <td>26.238424</td>\n",
       "    </tr>\n",
       "    <tr>\n",
       "      <th>Monday</th>\n",
       "      <td>27.356833</td>\n",
       "    </tr>\n",
       "    <tr>\n",
       "      <th>Saturday</th>\n",
       "      <td>30.384498</td>\n",
       "    </tr>\n",
       "    <tr>\n",
       "      <th>Sunday</th>\n",
       "      <td>32.275753</td>\n",
       "    </tr>\n",
       "    <tr>\n",
       "      <th>Thursday</th>\n",
       "      <td>30.045708</td>\n",
       "    </tr>\n",
       "  </tbody>\n",
       "</table>\n",
       "</div>"
      ],
      "text/plain": [
       "          Time_At_Stop_Float\n",
       "Ukedag                      \n",
       "Friday             26.238424\n",
       "Monday             27.356833\n",
       "Saturday           30.384498\n",
       "Sunday             32.275753\n",
       "Thursday           30.045708"
      ]
     },
     "execution_count": 28,
     "metadata": {},
     "output_type": "execute_result"
    }
   ],
   "source": [
    "timePrStopWeekday.head()"
   ]
  },
  {
   "cell_type": "code",
   "execution_count": 29,
   "metadata": {},
   "outputs": [
    {
     "data": {
      "image/png": "[encoded data removed]",
      "text/plain": [
       "<Figure size 640x480 with 1 Axes>"
      ]
     },
     "metadata": {},
     "output_type": "display_data"
    }
   ],
   "source": [
    "with plot.style.context('default'):\n",
    "\n",
    "    timePrStopWeekday.plot.bar()\n",
    "    plot.rcParams[\"figure.figsize\"] = [10, 8]\n",
    "    plot.xticks(rotation='vertical')\n",
    "    plot.title('Stop Time Based On Weekday')"
   ]
  },
  {
   "cell_type": "code",
   "execution_count": null,
   "metadata": {},
   "outputs": [],
   "source": []
  }
 ],
 "metadata": {
  "kernelspec": {
   "display_name": "Python 3",
   "language": "python",
   "name": "python3"
  },
  "language_info": {
   "codemirror_mode": {
    "name": "ipython",
    "version": 3
   },
   "file_extension": ".py",
   "mimetype": "text/x-python",
   "name": "python",
   "nbconvert_exporter": "python",
   "pygments_lexer": "ipython3",
   "version": "3.8.3"
  }
 },
 "nbformat": 4,
 "nbformat_minor": 4
}
